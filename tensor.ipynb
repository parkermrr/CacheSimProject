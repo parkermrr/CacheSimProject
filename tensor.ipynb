{
  "cells": [
    {
      "cell_type": "code",
      "execution_count": null,
      "metadata": {
        "id": "JV8GF0kLP9BY"
      },
      "outputs": [],
      "source": [
        "import copy\n",
        "import numpy as np"
      ]
    },
    {
      "cell_type": "code",
      "execution_count": null,
      "metadata": {
        "id": "yNBcMnVkP-Ry"
      },
      "outputs": [],
      "source": [
        "def khatri_rao(matrices):\n",
        "    n_columns = matrices[0].shape[1]\n",
        "    n_factors = len(matrices)\n",
        "\n",
        "    start = ord('a')\n",
        "    common_dim = 'z'\n",
        "    target = ''.join(chr(start + i) for i in range(n_factors))\n",
        "    source = ','.join(i+common_dim for i in target)\n",
        "    operation = source+'->'+target+common_dim\n",
        "    return np.einsum(operation, *matrices).reshape((-1, n_columns))\n"
      ]
    },
    {
      "cell_type": "code",
      "execution_count": null,
      "metadata": {
        "id": "MgizhZZNQBLR"
      },
      "outputs": [],
      "source": [
        "def unfold(tensor, mode):\n",
        "    return np.reshape(np.moveaxis(tensor, mode, 0), (tensor.shape[mode], -1), order='F')"
      ]
    },
    {
      "cell_type": "code",
      "execution_count": null,
      "metadata": {
        "id": "pbcxx6SsQC9t"
      },
      "outputs": [],
      "source": [
        "def recomposition(matrices):\n",
        "    n = len(matrices)\n",
        "    s = ''\n",
        "    for i in range(n):\n",
        "        s += chr(ord('A') + i)\n",
        "        s += 'z'\n",
        "        if i != n - 1:\n",
        "            s += ','\n",
        "        else:\n",
        "            s += '->'\n",
        "            for j in range(n):\n",
        "                s += chr(ord('A') + j)\n",
        "    return np.einsum(s, *matrices)"
      ]
    },
    {
      "cell_type": "code",
      "execution_count": null,
      "metadata": {
        "id": "7cgE-X-6Qaq5"
      },
      "outputs": [],
      "source": [
        "def cp_decomposition(X: np.ndarray, r: int, iter_max : int):\n",
        "    d = X.ndim\n",
        "    shape = X.shape\n",
        "    matrices = [np.random.normal(0, 1, (shape[i], r)) for i in range(d)]\n",
        "    \n",
        "    nz_pos = np.where(X != 0)\n",
        "    nz_X = np.zeros(shape)\n",
        "    nz_X[nz_pos] = 1\n",
        "    X_hat = np.zeros(shape)\n",
        "\n",
        "    iters_list = []\n",
        "    loss_list = []\n",
        "    for iters in range(1,iter_max+1):\n",
        "        for dim in range(d):\n",
        "            mm = copy.deepcopy(matrices)\n",
        "            mm.pop(dim)\n",
        "            n = shape[dim]\n",
        "            kr_result = khatri_rao(mm[::-1]).T\n",
        "            # print(var1.shape)\n",
        "            kr2 = khatri_rao([kr_result, kr_result])\n",
        "            vl = np.matmul(kr2, unfold(nz_X, dim).T).reshape([r, r, n])\n",
        "            kr_X = np.matmul(kr_result, unfold(X, dim).T)\n",
        "            for i in range(n):\n",
        "                v_lambda = vl[:, :, i]\n",
        "                inv_lambda = np.linalg.inv((v_lambda + v_lambda.T) / 2)\n",
        "                matrices[dim][i, :] = np.matmul(inv_lambda, kr_X[:, i])\n",
        "        X_hat = recomposition(matrices)\n",
        "        loss = np.sum(np.square(X[nz_pos] - X_hat[nz_pos])) / X[nz_pos].shape[0]\n",
        "        print('iter = ', iters, ' loss = ', loss)\n",
        "        iters_list.append(iters)\n",
        "        loss_list.append(loss)\n",
        "        if iters >= 55:\n",
        "            return (iters_list, loss_list,matrices,X_hat)\n",
        "    return (iters_list, loss_list,matrices,X_hat)\n"
      ]
    },
    {
      "cell_type": "code",
      "execution_count": null,
      "metadata": {
        "id": "_ElS4hETP09z"
      },
      "outputs": [],
      "source": [
        "def decomposition(X, epsilon=0.0001):\n",
        "    d = X.ndim\n",
        "    shape = X.shape\n",
        "    size = X.size\n",
        "    q = (epsilon / np.sqrt(d - 1)) * np.linalg.norm(X)  # truncation threshold\n",
        "    tt_ranks = [1]\n",
        "    c = X\n",
        "    tt_cores = []\n",
        "    for k in range(1, d):\n",
        "        ttt = int(tt_ranks[k - 1] * X.shape[k - 1])\n",
        "        c = np.reshape(c, (ttt, c.size // ttt))\n",
        "\n",
        "        # computing SVD\n",
        "        u, sigma, v = np.linalg.svd(c)\n",
        "        q_rank = 1\n",
        "        b = np.matmul((sigma[:q_rank] * u[:, :q_rank]), v[:q_rank, :])\n",
        "        while np.linalg.norm(c - b) > q and q_rank != len(sigma):\n",
        "            q_rank += 1\n",
        "            b = np.matmul((sigma[:q_rank] * u[:, :q_rank]), v[:q_rank, :])\n",
        "        tt_ranks.append(q_rank)\n",
        "        tt_cores.append(np.reshape(u[:, :q_rank], (tt_ranks[k - 1], X.shape[k - 1], tt_ranks[k])))\n",
        "        c = np.matmul(np.diag(sigma[:q_rank]), v[:q_rank, :])\n",
        "\n",
        "    temp_core = np.zeros((c.shape[0], c.shape[1], 1))\n",
        "    for i in range(c.shape[0]):\n",
        "        for j in range(c.shape[1]):\n",
        "            temp_core[i, j, 0] = c[i, j]\n",
        "    tt_cores.append(temp_core)\n",
        "\n",
        "    # computing the compression ratio\n",
        "    num_data = 0\n",
        "    for core in tt_cores:\n",
        "        num_data += core.size\n",
        "    compression_ratio = num_data / size\n",
        "\n",
        "    # computing the Frobenious-norm\n",
        "    v = np.kron(tt_cores[0][:, 0, :], tt_cores[0][:, 0, :])\n",
        "    for i in np.arange(1, shape[0]):\n",
        "        v += np.kron(tt_cores[0][:, i, :], tt_cores[0][:, i, :])\n",
        "\n",
        "    for k in np.arange(1, d):\n",
        "        temp_res = v @ np.kron(tt_cores[k][:, 0, :], tt_cores[k][:, 0, :])\n",
        "        for i in np.arange(1, shape[k]):\n",
        "            temp_res += v @ np.kron(tt_cores[k][:, i, :], tt_cores[k][:, i, :])\n",
        "        v = temp_res\n",
        "\n",
        "    return (np.sqrt(round(v[0][0], 10)), compression_ratio)\n",
        "\n",
        "\n"
      ]
    },
    {
      "cell_type": "code",
      "execution_count": null,
      "metadata": {
        "id": "4d9AIZ8wPfWO"
      },
      "outputs": [],
      "source": [
        "import numpy as np\n",
        "\n"
      ]
    },
    {
      "cell_type": "code",
      "execution_count": null,
      "metadata": {
        "id": "k5P7GG3-QQ3r"
      },
      "outputs": [],
      "source": [
        "a = np.load('a.npy')"
      ]
    },
    {
      "cell_type": "code",
      "execution_count": null,
      "metadata": {
        "id": "UEtkVAKqSgrX"
      },
      "outputs": [],
      "source": [
        "b = a.reshape((8,8,8,4234))"
      ]
    },
    {
      "cell_type": "code",
      "execution_count": null,
      "metadata": {
        "colab": {
          "base_uri": "https://localhost:8080/"
        },
        "id": "gqWSRXzkwVGk",
        "outputId": "fca4025d-13f3-4825-f7e3-639a9386dbf8"
      },
      "outputs": [
        {
          "name": "stdout",
          "output_type": "stream",
          "text": [
            "(8, 8, 8, 4000) (8, 8, 8, 234)\n"
          ]
        }
      ],
      "source": [
        "b1,b2 = np.split(b,[4000],axis=3)\n",
        "print(b1.shape,b2.shape)"
      ]
    },
    {
      "cell_type": "code",
      "execution_count": null,
      "metadata": {
        "id": "ndVRlAbNwd1l"
      },
      "outputs": [],
      "source": [
        "c = b1.reshape((8,8,8,8,5,5,5,4))"
      ]
    },
    {
      "cell_type": "code",
      "execution_count": null,
      "metadata": {
        "id": "yBvn35_QTTjk"
      },
      "outputs": [],
      "source": [
        "x,y = ([1, 2, 3, 4, 5, 6, 7, 8, 9, 10, 11, 12, 13, 14, 15, 16, 17, 18, 19, 20, 21, 22, 23, 24, 25, 26, 27, 28, 29, 30, 31, 32, 33, 34, 35, 36, 37, 38, 39, 40, 41, 42, 43, 44, 45, 46, 47, 48, 49, 50, 51, 52, 53, 54, 55], [1.0742584699540814, 0.07444849123497774, 0.05458113507195184, 0.05070665742475327, 0.048695266659335275, 0.04735720417091977, 0.04642198493105185, 0.04579004085498526, 0.045359122131294706, 0.045046150055716244, 0.04480189520689821, 0.044601300080109776, 0.044431076776872865, 0.044283191921119555, 0.04415250062984012, 0.04403567044797473, 0.04393043667413324, 0.0438351185374414, 0.04374829878589336, 0.04366864070422428, 0.043594847873710964, 0.04352570148751781, 0.04346009798716196, 0.0433970583127877, 0.0433357192324258, 0.043275325709313466, 0.04321523573801694, 0.043154939611882964, 0.04309408889505224, 0.043032526459509925, 0.042970307465831116, 0.04290770251150923, 0.04284517809280667, 0.0427833544300887, 0.04272294482670889, 0.04266468239243027, 0.042609241676561355, 0.04255717013280186, 0.042508844633636605, 0.04246444914293067, 0.04242396334117272, 0.04238717402397254, 0.04235372449867033, 0.04232318808723979, 0.04229513482694902, 0.04226917295291397, 0.0422449657404748, 0.042222232792615874, 0.042200744272443455, 0.042180313207230494, 0.04216078821034277, 0.04214204740855241, 0.04212399365675409, 0.042106550833758506, 0.042089660881882325])"
      ]
    },
    {
      "cell_type": "code",
      "execution_count": null,
      "metadata": {
        "colab": {
          "base_uri": "https://localhost:8080/",
          "height": 265
        },
        "id": "WoCHdWIHTlk-",
        "outputId": "3161f772-8db2-4bcb-a6ed-49710c03b4a8"
      },
      "outputs": [
        {
          "data": {
            "image/png": "[encoded data removed]",
            "text/plain": [
              "<Figure size 432x288 with 1 Axes>"
            ]
          },
          "metadata": {
            "needs_background": "light"
          },
          "output_type": "display_data"
        }
      ],
      "source": [
        "import matplotlib.pyplot as plt\n",
        "plt.plot(x,y)\n",
        "plt.show()"
      ]
    },
    {
      "cell_type": "code",
      "execution_count": null,
      "metadata": {
        "colab": {
          "base_uri": "https://localhost:8080/"
        },
        "id": "SuvQTV-tpiFu",
        "outputId": "1d5c2bda-5fae-490f-9443-93a3e7f1d5f5"
      },
      "outputs": [
        {
          "name": "stdout",
          "output_type": "stream",
          "text": [
            "iter =  1  loss =  0.23096221042996182\n",
            "iter =  2  loss =  0.038136136478740396\n",
            "iter =  3  loss =  0.03338706972975817\n",
            "iter =  4  loss =  0.03149663819296584\n",
            "iter =  5  loss =  0.030414580142958957\n",
            "iter =  6  loss =  0.029688941074906283\n",
            "iter =  7  loss =  0.029166756714763247\n",
            "iter =  8  loss =  0.028773720570376634\n",
            "iter =  9  loss =  0.028465589455713463\n",
            "iter =  10  loss =  0.028214035841551192\n",
            "iter =  11  loss =  0.02800102381507936\n",
            "iter =  12  loss =  0.027815329005715005\n",
            "iter =  13  loss =  0.027649867358640945\n",
            "iter =  14  loss =  0.027500407811908736\n",
            "iter =  15  loss =  0.027364472064062378\n",
            "iter =  16  loss =  0.027240506393529575\n",
            "iter =  17  loss =  0.027127380006723694\n",
            "iter =  18  loss =  0.027024115700063564\n",
            "iter =  19  loss =  0.02692978624065081\n",
            "iter =  20  loss =  0.026843502494991574\n",
            "iter =  21  loss =  0.026764426227801997\n",
            "iter =  22  loss =  0.0266917767613005\n",
            "iter =  23  loss =  0.026624830589908978\n",
            "iter =  24  loss =  0.026562920639685742\n",
            "iter =  25  loss =  0.026505438022947952\n",
            "iter =  26  loss =  0.026451835204255172\n",
            "iter =  27  loss =  0.026401628372599045\n",
            "iter =  28  loss =  0.026354397466489002\n",
            "iter =  29  loss =  0.026309783476826824\n"
          ]
        }
      ],
      "source": [
        "i_list,l_list,matrices,X_hat = cp_decomposition(b,50)"
      ]
    },
    {
      "cell_type": "code",
      "execution_count": null,
      "metadata": {
        "colab": {
          "base_uri": "https://localhost:8080/"
        },
        "id": "-zhz9he1Xh5S",
        "outputId": "d498c833-f33b-4872-bd35-61d17c60d8d8"
      },
      "outputs": [
        {
          "name": "stdout",
          "output_type": "stream",
          "text": [
            "hit:2162933,miss:4875,total:2167808,rate:0.9977511846067548\n"
          ]
        }
      ],
      "source": [
        "flatt = X_hat.reshape(2167808)\n",
        "miss,hit = 0,0\n",
        "for t in flatt:\n",
        "  if t > 0.5:\n",
        "    miss += 1\n",
        "  else:\n",
        "    hit += 1\n",
        "print(\"hit:{},miss:{},total:{},rate:{}\".format(hit,miss,hit+miss,hit/(hit+miss)))"
      ]
    },
    {
      "cell_type": "code",
      "execution_count": null,
      "metadata": {
        "colab": {
          "base_uri": "https://localhost:8080/"
        },
        "id": "VrVb9xbLeS1K",
        "outputId": "4513f3ea-d2fc-43f2-cc31-36d0c4e37592"
      },
      "outputs": [
        {
          "name": "stdout",
          "output_type": "stream",
          "text": [
            "(1765368,)\n",
            "(1600000,)\n"
          ]
        }
      ],
      "source": [
        "data_621 = np.load('621.npy')\n",
        "print(data_621.shape)\n",
        "\n",
        "data1,data2 = np.split(data_621,[1600000])\n",
        "print(data1.shape)"
      ]
    },
    {
      "cell_type": "code",
      "execution_count": null,
      "metadata": {
        "id": "zbwwFHBeh00y"
      },
      "outputs": [],
      "source": [
        "tensor621 = data1.reshape(512,5,5,5,5,5)"
      ]
    },
    {
      "cell_type": "code",
      "execution_count": null,
      "metadata": {
        "colab": {
          "base_uri": "https://localhost:8080/"
        },
        "id": "9Vln7TZHhySZ",
        "outputId": "59e6a6e1-804e-45bf-a8ae-b6c3f35fc272"
      },
      "outputs": [
        {
          "name": "stdout",
          "output_type": "stream",
          "text": [
            "iter =  1  loss =  2.877999728003473e-06\n",
            "iter =  2  loss =  6.59299171559197e-11\n",
            "iter =  3  loss =  1.1739032200174284e-08\n",
            "iter =  4  loss =  1.687858943972179e-09\n",
            "iter =  5  loss =  9.647414130237569e-09\n",
            "iter =  6  loss =  2.3996093912568345e-09\n",
            "iter =  7  loss =  2.476299110745613e-09\n",
            "iter =  8  loss =  3.5803949622658096e-08\n",
            "iter =  9  loss =  4.449327476897885e-10\n",
            "iter =  10  loss =  2.350039840342869e-09\n",
            "iter =  11  loss =  1.0917157631475742e-09\n",
            "iter =  12  loss =  1.1792918457779787e-09\n",
            "iter =  13  loss =  1.5968257343554862e-09\n",
            "iter =  14  loss =  1.953322386621427e-09\n",
            "iter =  15  loss =  3.898573848279462e-12\n",
            "iter =  16  loss =  3.0797784064181107e-06\n",
            "iter =  17  loss =  3.3422396772471034e-10\n",
            "iter =  18  loss =  2.822084580558633e-07\n",
            "iter =  19  loss =  8.179273700237942e-12\n",
            "iter =  20  loss =  4.35812155321547e-06\n",
            "iter =  21  loss =  2.2274948405108563e-10\n",
            "iter =  22  loss =  1.7938073451922413e-06\n",
            "iter =  23  loss =  5.378456901072222e-10\n",
            "iter =  24  loss =  1.730275892173297e-08\n",
            "iter =  25  loss =  1.327262421408936e-11\n",
            "iter =  26  loss =  9.760146801032797e-10\n",
            "iter =  27  loss =  3.243651162324751e-11\n",
            "iter =  28  loss =  5.5875344999698334e-08\n",
            "iter =  29  loss =  2.4753702246041564e-11\n"
          ]
        }
      ],
      "source": [
        "i_list_1,l_list_1,matrices_1,X_hat_1 = cp_decomposition(tensor621,30)"
      ]
    },
    {
      "cell_type": "code",
      "execution_count": null,
      "metadata": {
        "colab": {
          "base_uri": "https://localhost:8080/"
        },
        "id": "ESTHCrFZjzEH",
        "outputId": "68617aae-eeb4-47ba-dae7-f76b08f62167"
      },
      "outputs": [
        {
          "name": "stdout",
          "output_type": "stream",
          "text": [
            "hit:1599419,miss:581,total:1600000,rate:0.999636875\n"
          ]
        }
      ],
      "source": [
        "flatt = X_hat_1.reshape(2167808)\n",
        "miss,hit = 0,0\n",
        "for t in flatt:\n",
        "  if t > 0.5:\n",
        "    miss += 1\n",
        "  else:\n",
        "    hit += 1\n",
        "print(\"hit:{},miss:{},total:{},rate:{}\".format(hit,miss,hit+miss,hit/(hit+miss)))"
      ]
    },
    {
      "cell_type": "code",
      "execution_count": null,
      "metadata": {
        "colab": {
          "base_uri": "https://localhost:8080/",
          "height": 365
        },
        "id": "gxM9znCmlt6T",
        "outputId": "a1201923-5a7d-438b-8ff0-c86d9391c6b4"
      },
      "outputs": [
        {
          "ename": "FileNotFoundError",
          "evalue": "ignored",
          "output_type": "error",
          "traceback": [
            "\u001b[0;31m---------------------------------------------------------------------------\u001b[0m",
            "\u001b[0;31mFileNotFoundError\u001b[0m                         Traceback (most recent call last)",
            "\u001b[0;32m<ipython-input-3-1d4bd0a1edbf>\u001b[0m in \u001b[0;36m<module>\u001b[0;34m\u001b[0m\n\u001b[0;32m----> 1\u001b[0;31m \u001b[0mdata_619\u001b[0m \u001b[0;34m=\u001b[0m \u001b[0mnp\u001b[0m\u001b[0;34m.\u001b[0m\u001b[0mload\u001b[0m\u001b[0;34m(\u001b[0m\u001b[0;34m'619.npy'\u001b[0m\u001b[0;34m)\u001b[0m\u001b[0;34m\u001b[0m\u001b[0;34m\u001b[0m\u001b[0m\n\u001b[0m\u001b[1;32m      2\u001b[0m \u001b[0mprint\u001b[0m\u001b[0;34m(\u001b[0m\u001b[0mdata_619\u001b[0m\u001b[0;34m.\u001b[0m\u001b[0mshape\u001b[0m\u001b[0;34m)\u001b[0m\u001b[0;34m\u001b[0m\u001b[0;34m\u001b[0m\u001b[0m\n\u001b[1;32m      3\u001b[0m \u001b[0;34m\u001b[0m\u001b[0m\n\u001b[1;32m      4\u001b[0m \u001b[0mdata3\u001b[0m\u001b[0;34m,\u001b[0m\u001b[0mdata5\u001b[0m \u001b[0;34m=\u001b[0m \u001b[0mnp\u001b[0m\u001b[0;34m.\u001b[0m\u001b[0msplit\u001b[0m\u001b[0;34m(\u001b[0m\u001b[0mdata_619\u001b[0m\u001b[0;34m,\u001b[0m\u001b[0;34m[\u001b[0m\u001b[0;36m1600000\u001b[0m\u001b[0;34m]\u001b[0m\u001b[0;34m)\u001b[0m\u001b[0;34m\u001b[0m\u001b[0;34m\u001b[0m\u001b[0m\n\u001b[1;32m      5\u001b[0m \u001b[0mprint\u001b[0m\u001b[0;34m(\u001b[0m\u001b[0mdata1\u001b[0m\u001b[0;34m.\u001b[0m\u001b[0mshape\u001b[0m\u001b[0;34m)\u001b[0m\u001b[0;34m\u001b[0m\u001b[0;34m\u001b[0m\u001b[0m\n",
            "\u001b[0;32m/usr/local/lib/python3.8/dist-packages/numpy/lib/npyio.py\u001b[0m in \u001b[0;36mload\u001b[0;34m(file, mmap_mode, allow_pickle, fix_imports, encoding)\u001b[0m\n\u001b[1;32m    415\u001b[0m             \u001b[0mown_fid\u001b[0m \u001b[0;34m=\u001b[0m \u001b[0;32mFalse\u001b[0m\u001b[0;34m\u001b[0m\u001b[0;34m\u001b[0m\u001b[0m\n\u001b[1;32m    416\u001b[0m         \u001b[0;32melse\u001b[0m\u001b[0;34m:\u001b[0m\u001b[0;34m\u001b[0m\u001b[0;34m\u001b[0m\u001b[0m\n\u001b[0;32m--> 417\u001b[0;31m             \u001b[0mfid\u001b[0m \u001b[0;34m=\u001b[0m \u001b[0mstack\u001b[0m\u001b[0;34m.\u001b[0m\u001b[0menter_context\u001b[0m\u001b[0;34m(\u001b[0m\u001b[0mopen\u001b[0m\u001b[0;34m(\u001b[0m\u001b[0mos_fspath\u001b[0m\u001b[0;34m(\u001b[0m\u001b[0mfile\u001b[0m\u001b[0;34m)\u001b[0m\u001b[0;34m,\u001b[0m \u001b[0;34m\"rb\"\u001b[0m\u001b[0;34m)\u001b[0m\u001b[0;34m)\u001b[0m\u001b[0;34m\u001b[0m\u001b[0;34m\u001b[0m\u001b[0m\n\u001b[0m\u001b[1;32m    418\u001b[0m             \u001b[0mown_fid\u001b[0m \u001b[0;34m=\u001b[0m \u001b[0;32mTrue\u001b[0m\u001b[0;34m\u001b[0m\u001b[0;34m\u001b[0m\u001b[0m\n\u001b[1;32m    419\u001b[0m \u001b[0;34m\u001b[0m\u001b[0m\n",
            "\u001b[0;31mFileNotFoundError\u001b[0m: [Errno 2] No such file or directory: '619.npy'"
          ]
        }
      ],
      "source": [
        "data_619 = np.load('619.npy')\n",
        "print(data_619.shape)\n",
        "\n",
        "data3,data5 = np.split(data_619,[1600000])\n",
        "print(data1.shape)"
      ]
    },
    {
      "cell_type": "code",
      "execution_count": null,
      "metadata": {
        "id": "YYDd5QrDl2Ql"
      },
      "outputs": [],
      "source": [
        "tensor619 = data3.reshape(512,5,5,125)"
      ]
    },
    {
      "cell_type": "code",
      "execution_count": null,
      "metadata": {
        "id": "81eJyDuul4_g"
      },
      "outputs": [],
      "source": [
        "i_list_1,l_list_1,matrices_1,X_hat_1 = cp_decomposition(tensor619,100,10)"
      ]
    },
    {
      "cell_type": "code",
      "execution_count": null,
      "metadata": {
        "colab": {
          "base_uri": "https://localhost:8080/"
        },
        "id": "YI3tEbtrpOOu",
        "outputId": "1fd32e6f-b8ef-4e69-e225-cdf3a28f99b5"
      },
      "outputs": [
        {
          "name": "stdout",
          "output_type": "stream",
          "text": [
            "hit:1009380,miss:590620,total:1600000,rate:0.6308625\n"
          ]
        }
      ],
      "source": [
        "flatt = X_hat_1.reshape(2167808)\n",
        "miss,hit = 0,0\n",
        "for t in flatt:\n",
        "  if t > 0.5:\n",
        "    miss += 1\n",
        "  else:\n",
        "    hit += 1\n",
        "print(\"hit:{},miss:{},total:{},rate:{}\".format(hit,miss,hit+miss,hit/(hit+miss)))"
      ]
    },
    {
      "cell_type": "code",
      "execution_count": null,
      "metadata": {
        "colab": {
          "base_uri": "https://localhost:8080/"
        },
        "id": "HMigYvXS0iTD",
        "outputId": "d729d903-08c3-47c4-e91f-03c1686b0fed"
      },
      "outputs": [
        {
          "name": "stdout",
          "output_type": "stream",
          "text": [
            "0.23096221042996182\n",
            "0.038136136478740396\n",
            "0.03338706972975817\n",
            "0.03149663819296584\n",
            "0.030414580142958957\n",
            "0.029688941074906283\n",
            "0.029166756714763247\n",
            "0.028773720570376634\n",
            "0.028465589455713463\n",
            "0.028214035841551192\n",
            "0.02800102381507936\n",
            "0.027815329005715005\n",
            "0.027649867358640945\n",
            "0.027500407811908736\n",
            "0.027364472064062378\n",
            "0.027240506393529575\n",
            "0.027127380006723694\n",
            "0.027024115700063564\n",
            "0.02692978624065081\n",
            "0.026843502494991574\n",
            "0.026764426227801997\n",
            "0.0266917767613005\n",
            "0.026624830589908978\n",
            "0.026562920639685742\n",
            "0.026505438022947952\n",
            "0.026451835204255172\n",
            "0.026401628372599045\n",
            "0.026354397466489002\n",
            "0.026309783476826824\n"
          ]
        }
      ],
      "source": [
        "s = \"\"\"iter =  1  loss =  0.23096221042996182\n",
        "iter =  2  loss =  0.038136136478740396\n",
        "iter =  3  loss =  0.03338706972975817\n",
        "iter =  4  loss =  0.03149663819296584\n",
        "iter =  5  loss =  0.030414580142958957\n",
        "iter =  6  loss =  0.029688941074906283\n",
        "iter =  7  loss =  0.029166756714763247\n",
        "iter =  8  loss =  0.028773720570376634\n",
        "iter =  9  loss =  0.028465589455713463\n",
        "iter =  10  loss =  0.028214035841551192\n",
        "iter =  11  loss =  0.02800102381507936\n",
        "iter =  12  loss =  0.027815329005715005\n",
        "iter =  13  loss =  0.027649867358640945\n",
        "iter =  14  loss =  0.027500407811908736\n",
        "iter =  15  loss =  0.027364472064062378\n",
        "iter =  16  loss =  0.027240506393529575\n",
        "iter =  17  loss =  0.027127380006723694\n",
        "iter =  18  loss =  0.027024115700063564\n",
        "iter =  19  loss =  0.02692978624065081\n",
        "iter =  20  loss =  0.026843502494991574\n",
        "iter =  21  loss =  0.026764426227801997\n",
        "iter =  22  loss =  0.0266917767613005\n",
        "iter =  23  loss =  0.026624830589908978\n",
        "iter =  24  loss =  0.026562920639685742\n",
        "iter =  25  loss =  0.026505438022947952\n",
        "iter =  26  loss =  0.026451835204255172\n",
        "iter =  27  loss =  0.026401628372599045\n",
        "iter =  28  loss =  0.026354397466489002\n",
        "iter =  29  loss =  0.026309783476826824\"\"\"\n",
        "\n",
        "t = s.split('\\n')\n",
        "g = []\n",
        "for t1 in t:\n",
        "  r = t1.split('loss =  ')\n",
        "  print(float(r[1]))\n",
        "  g.append(float(r[1]))"
      ]
    },
    {
      "cell_type": "code",
      "execution_count": null,
      "metadata": {
        "colab": {
          "base_uri": "https://localhost:8080/",
          "height": 265
        },
        "id": "ta3RoQE47g6x",
        "outputId": "31d22c0c-adf3-4aa4-dd03-fe52b6b27036"
      },
      "outputs": [
        {
          "data": {
            "image/png": "[encoded data removed]",
            "text/plain": [
              "<Figure size 432x288 with 1 Axes>"
            ]
          },
          "metadata": {
            "needs_background": "light"
          },
          "output_type": "display_data"
        }
      ],
      "source": [
        "import matplotlib.pyplot as plt\n",
        "plt.plot(range(1,30),g)\n",
        "plt.yscale('log')"
      ]
    }
  ],
  "metadata": {
    "colab": {
      "provenance": []
    },
    "kernelspec": {
      "display_name": "Python 3",
      "name": "python3"
    },
    "language_info": {
      "name": "python"
    }
  },
  "nbformat": 4,
  "nbformat_minor": 0
}
